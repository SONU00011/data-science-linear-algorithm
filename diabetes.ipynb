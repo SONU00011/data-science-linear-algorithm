{
  "nbformat": 4,
  "nbformat_minor": 0,
  "metadata": {
    "colab": {
      "provenance": [],
      "authorship_tag": "ABX9TyPDYJgCltDPviaDGlnlyeLc",
      "include_colab_link": true
    },
    "kernelspec": {
      "name": "python3",
      "display_name": "Python 3"
    },
    "language_info": {
      "name": "python"
    }
  },
  "cells": [
    {
      "cell_type": "markdown",
      "metadata": {
        "id": "view-in-github",
        "colab_type": "text"
      },
      "source": [
        "<a href=\"https://colab.research.google.com/github/SONU00011/data-science-linear-algorithm/blob/main/diabetes.ipynb\" target=\"_parent\"><img src=\"https://colab.research.google.com/assets/colab-badge.svg\" alt=\"Open In Colab\"/></a>"
      ]
    },
    {
      "cell_type": "code",
      "execution_count": null,
      "metadata": {
        "id": "NZGQ33MUSCZb"
      },
      "outputs": [],
      "source": [
        "import numpy as np\n",
        "import pandas as pd\n",
        "from sklearn.linear_model import LogisticRegression\n",
        "from sklearn.model_selection import train_test_split\n",
        "df = pd.read_csv('diabetes.csv')\n",
        "# print(df)\n",
        "# print(df.head())\n",
        "X = df[['Pregnancies','Glucose','BloodPressure','SkinThickness','Insulin','BMI','DiabetesPedigreeFunction','Age']].values\n",
        "Y = df['Outcome'].values\n",
        "print(X)\n",
        "print(Y)\n",
        "\n",
        "X_train,X_test,Y_train,Y_test=train_test_split(X,Y,test_size=0.20,random_state=1)\n",
        "\n",
        "# instentiate model\n",
        "logreg = LogisticRegression()\n",
        "\n",
        "# fil model\n",
        "logreg.fit(X_train,Y_train)\n",
        "\n",
        "# prediction of test data\n",
        "Y_pred=logreg.predict(X_test)\n",
        "\n",
        "print(Y_pred)\n",
        "print(Y_test)\n"
      ]
    }
  ]
}