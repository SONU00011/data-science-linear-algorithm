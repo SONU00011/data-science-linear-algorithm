{
  "cells": [
    {
      "cell_type": "markdown",
      "metadata": {
        "id": "view-in-github",
        "colab_type": "text"
      },
      "source": [
        "<a href=\"https://colab.research.google.com/github/SONU00011/data-science-linear-algorithm/blob/main/data_science_Knn.ipynb\" target=\"_parent\"><img src=\"https://colab.research.google.com/assets/colab-badge.svg\" alt=\"Open In Colab\"/></a>"
      ]
    },
    {
      "cell_type": "code",
      "execution_count": null,
      "metadata": {
        "colab": {
          "base_uri": "https://localhost:8080/"
        },
        "id": "XQMGTAhPGKVe",
        "outputId": "f258defc-665d-4789-8614-5d0d78c0e6bd"
      },
      "outputs": [
        {
          "name": "stdout",
          "output_type": "stream",
          "text": [
            "     User ID        Device Model Operating System  App Usage Time (min/day)  \\\n",
            "0          1      Google Pixel 5          Android                       393   \n",
            "1          2           OnePlus 9          Android                       268   \n",
            "2          3        Xiaomi Mi 11          Android                       154   \n",
            "3          4      Google Pixel 5          Android                       239   \n",
            "4          5           iPhone 12              iOS                       187   \n",
            "..       ...                 ...              ...                       ...   \n",
            "695      696           iPhone 12              iOS                        92   \n",
            "696      697        Xiaomi Mi 11          Android                       316   \n",
            "697      698      Google Pixel 5          Android                        99   \n",
            "698      699  Samsung Galaxy S21          Android                        62   \n",
            "699      700           OnePlus 9          Android                       212   \n",
            "\n",
            "     Screen On Time (hours/day)  Battery Drain (mAh/day)  \\\n",
            "0                           6.4                     1872   \n",
            "1                           4.7                     1331   \n",
            "2                           4.0                      761   \n",
            "3                           4.8                     1676   \n",
            "4                           4.3                     1367   \n",
            "..                          ...                      ...   \n",
            "695                         3.9                     1082   \n",
            "696                         6.8                     1965   \n",
            "697                         3.1                      942   \n",
            "698                         1.7                      431   \n",
            "699                         5.4                     1306   \n",
            "\n",
            "     Number of Apps Installed  Data Usage (MB/day)  Age  Gender  \\\n",
            "0                          67                 1122   40    Male   \n",
            "1                          42                  944   47  Female   \n",
            "2                          32                  322   42    Male   \n",
            "3                          56                  871   20    Male   \n",
            "4                          58                  988   31  Female   \n",
            "..                        ...                  ...  ...     ...   \n",
            "695                        26                  381   22    Male   \n",
            "696                        68                 1201   59    Male   \n",
            "697                        22                  457   50  Female   \n",
            "698                        13                  224   44    Male   \n",
            "699                        49                  828   23  Female   \n",
            "\n",
            "     User Behavior Class  \n",
            "0                      4  \n",
            "1                      3  \n",
            "2                      2  \n",
            "3                      3  \n",
            "4                      3  \n",
            "..                   ...  \n",
            "695                    2  \n",
            "696                    4  \n",
            "697                    2  \n",
            "698                    1  \n",
            "699                    3  \n",
            "\n",
            "[700 rows x 11 columns]\n"
          ]
        }
      ],
      "source": [
        "import pandas as pd\n",
        "import numpy as np\n",
        "# from sklearn.neighbors import KNeighborsClassifier\n",
        "# from sklearn.model_selection import train_test_split\n",
        "df = pd.read_csv(\"/content/user_behavior_dataset - Copy.csv\")\n",
        "print(df)"
      ]
    },
    {
      "cell_type": "code",
      "execution_count": null,
      "metadata": {
        "colab": {
          "base_uri": "https://localhost:8080/"
        },
        "id": "LyKUn-SpPzUr",
        "outputId": "8cdba292-4d3a-4dff-94c8-5245a6dc79e1"
      },
      "outputs": [
        {
          "name": "stdout",
          "output_type": "stream",
          "text": [
            "     User ID  Device Model  Operating System  App Usage Time (min/day)  \\\n",
            "0          1             0                 0                       393   \n",
            "1          2             1                 0                       268   \n",
            "2          3             3                 0                       154   \n",
            "3          4             0                 0                       239   \n",
            "4          5             4                 1                       187   \n",
            "..       ...           ...               ...                       ...   \n",
            "695      696             4                 1                        92   \n",
            "696      697             3                 0                       316   \n",
            "697      698             0                 0                        99   \n",
            "698      699             2                 0                        62   \n",
            "699      700             1                 0                       212   \n",
            "\n",
            "     Screen On Time (hours/day)  Battery Drain (mAh/day)  \\\n",
            "0                           6.4                     1872   \n",
            "1                           4.7                     1331   \n",
            "2                           4.0                      761   \n",
            "3                           4.8                     1676   \n",
            "4                           4.3                     1367   \n",
            "..                          ...                      ...   \n",
            "695                         3.9                     1082   \n",
            "696                         6.8                     1965   \n",
            "697                         3.1                      942   \n",
            "698                         1.7                      431   \n",
            "699                         5.4                     1306   \n",
            "\n",
            "     Number of Apps Installed  Data Usage (MB/day)  Age  Gender  \\\n",
            "0                          67                 1122   40       1   \n",
            "1                          42                  944   47       0   \n",
            "2                          32                  322   42       1   \n",
            "3                          56                  871   20       1   \n",
            "4                          58                  988   31       0   \n",
            "..                        ...                  ...  ...     ...   \n",
            "695                        26                  381   22       1   \n",
            "696                        68                 1201   59       1   \n",
            "697                        22                  457   50       0   \n",
            "698                        13                  224   44       1   \n",
            "699                        49                  828   23       0   \n",
            "\n",
            "     User Behavior Class  \n",
            "0                      4  \n",
            "1                      3  \n",
            "2                      2  \n",
            "3                      3  \n",
            "4                      3  \n",
            "..                   ...  \n",
            "695                    2  \n",
            "696                    4  \n",
            "697                    2  \n",
            "698                    1  \n",
            "699                    3  \n",
            "\n",
            "[700 rows x 11 columns]\n"
          ]
        }
      ],
      "source": [
        "from sklearn import preprocessing\n",
        "le=preprocessing.LabelEncoder()\n",
        "df['Operating System']=le.fit_transform(df['Operating System'])\n",
        "df['Device Model']=le.fit_transform(df['Device Model'])\n",
        "df['Gender'] = le.fit_transform(df['Gender'])\n",
        "print(df)"
      ]
    },
    {
      "cell_type": "code",
      "execution_count": null,
      "metadata": {
        "colab": {
          "base_uri": "https://localhost:8080/"
        },
        "id": "kVFIAqmeJng5",
        "outputId": "d2a5edd3-3756-47f0-b443-074da390e1fa"
      },
      "outputs": [
        {
          "name": "stdout",
          "output_type": "stream",
          "text": [
            "[[0.000e+00 0.000e+00 3.930e+02 ... 1.872e+03 4.000e+01 1.000e+00]\n",
            " [0.000e+00 1.000e+00 2.680e+02 ... 1.331e+03 4.700e+01 0.000e+00]\n",
            " [0.000e+00 3.000e+00 1.540e+02 ... 7.610e+02 4.200e+01 1.000e+00]\n",
            " ...\n",
            " [0.000e+00 0.000e+00 9.900e+01 ... 9.420e+02 5.000e+01 0.000e+00]\n",
            " [0.000e+00 2.000e+00 6.200e+01 ... 4.310e+02 4.400e+01 1.000e+00]\n",
            " [0.000e+00 1.000e+00 2.120e+02 ... 1.306e+03 2.300e+01 0.000e+00]]\n",
            "[4 3 2 3 3 2 4 5 4 4 1 3 4 3 3 5 2 3 1 5 2 5 4 3 3 2 4 5 4 4 3 3 3 1 5 1 2\n",
            " 5 4 4 3 5 2 2 2 5 5 2 5 5 4 3 2 2 5 1 1 5 4 4 5 4 1 5 4 3 3 2 5 1 4 5 4 1\n",
            " 1 3 1 2 1 3 5 2 4 1 3 4 2 1 2 4 2 3 1 2 4 4 5 5 1 3 1 3 2 3 2 1 2 1 3 3 2\n",
            " 5 3 2 4 2 1 3 1 2 4 5 5 5 3 5 4 3 2 2 5 4 2 1 1 5 1 3 5 5 3 4 2 1 5 3 4 1\n",
            " 3 2 5 1 2 4 1 2 1 4 4 2 1 1 4 1 3 5 5 1 3 5 2 1 2 4 1 3 3 3 3 5 2 4 5 1 5\n",
            " 5 4 1 2 1 2 1 4 3 4 3 3 2 1 2 5 2 1 1 2 4 1 2 5 3 4 5 2 1 2 5 4 5 5 2 4 2\n",
            " 4 5 2 5 4 3 2 4 2 5 5 2 2 1 5 4 1 5 1 5 2 4 1 3 1 4 2 1 1 4 5 2 1 4 4 3 3\n",
            " 5 1 4 5 1 4 5 3 5 3 4 4 3 2 2 2 5 3 3 1 4 1 1 4 1 4 5 4 3 2 1 4 1 1 3 5 1\n",
            " 4 2 3 2 4 3 4 5 2 2 3 4 3 4 3 4 2 2 3 1 3 2 4 5 3 3 4 1 4 3 3 1 1 5 3 2 3\n",
            " 4 1 5 4 1 4 1 1 5 5 3 3 4 2 1 2 4 4 1 3 4 1 1 3 5 1 3 5 5 1 4 5 4 5 5 2 2\n",
            " 5 5 5 5 1 1 1 4 5 2 3 5 1 2 2 4 2 1 5 2 4 4 2 4 5 4 1 5 1 1 5 2 4 5 5 4 2\n",
            " 4 4 4 5 5 3 3 2 2 3 5 3 1 1 2 4 1 3 2 2 2 2 5 3 2 5 1 5 2 3 1 2 2 3 3 1 3\n",
            " 5 4 5 3 2 1 2 5 2 1 2 1 1 3 1 2 5 2 3 3 1 3 4 3 4 1 3 5 2 3 3 4 4 3 3 3 2\n",
            " 5 5 1 4 1 2 3 4 5 4 2 1 4 2 5 3 2 3 2 1 4 5 3 5 4 3 1 3 5 3 5 1 2 4 2 2 1\n",
            " 5 2 4 1 4 5 3 3 2 1 2 3 5 4 4 3 4 2 3 5 5 5 5 2 3 3 5 1 3 2 4 2 4 2 2 4 4\n",
            " 3 2 3 4 5 4 2 1 1 3 1 2 1 3 4 4 4 3 5 5 2 5 4 3 1 5 2 3 1 1 2 3 4 4 2 2 5\n",
            " 4 3 4 5 5 2 2 3 4 1 2 2 3 4 5 3 3 5 5 1 5 1 2 2 3 3 4 3 3 1 4 1 1 1 3 3 1\n",
            " 4 2 3 5 2 4 2 5 1 4 5 1 1 5 2 3 2 1 1 4 3 2 1 3 1 5 2 3 3 4 5 1 2 2 4 5 3\n",
            " 5 3 2 2 1 4 5 1 5 1 2 2 3 1 4 4 3 1 3 4 4 4 3 5 3 2 4 5 5 2 4 2 1 3]\n"
          ]
        }
      ],
      "source": [
        "x = df[[\"Operating System\",\"Device Model\",\"App Usage Time (min/day)\",\"Screen On Time (hours/day)\",\"Battery Drain (mAh/day)\",\"Age\",\"Gender\"]].values\n",
        "y = df[\"User Behavior Class\"].values\n",
        "print(x)\n",
        "print(y)"
      ]
    },
    {
      "cell_type": "code",
      "execution_count": null,
      "metadata": {
        "colab": {
          "base_uri": "https://localhost:8080/"
        },
        "id": "Kuk5Zc5wNk86",
        "outputId": "0a4b1981-d23b-408b-ecf9-dcdc8436341c"
      },
      "outputs": [
        {
          "name": "stdout",
          "output_type": "stream",
          "text": [
            "[3 2 2 5 3 4 5 3 5 4 1 1 4 2 4 4 3 1 3 5 1 3 1 1 4 5 5 4 2 3 4 1 2 4 5 2 3\n",
            " 4 5 4 5 5 5 1 5 3 5 5 4 5 2 1 5 2 3 3 5 2 4 3 5 3 4 1 4 2 2 4 2 4 4 1 5 3\n",
            " 5 5 4 2 2 1 2 1 4 2 1 3 5 5 5 2 3 5 2 2 5 4 5 5 2 1 4 4 1 5 2 3 1 5 5 1 1\n",
            " 1 2 1 3 3 5 2 2 3 2 1 5 2 4 3 1 5 3 4 5 4 2 2 5 1 3 3 4 4]\n",
            "[3 3 3 4 3 4 5 3 5 3 1 1 3 2 4 3 3 2 3 5 1 3 1 1 3 5 4 3 3 3 3 1 2 3 4 2 4\n",
            " 4 5 4 4 5 4 2 5 3 5 4 3 4 3 1 5 1 2 2 5 2 4 3 4 3 3 1 4 3 2 3 1 4 3 1 5 3\n",
            " 5 5 3 3 2 2 2 1 4 3 2 3 5 4 4 3 4 5 2 2 5 4 5 5 2 1 4 3 1 4 2 3 1 5 5 1 2\n",
            " 1 2 1 4 3 4 2 1 3 2 2 5 1 3 3 1 5 3 4 5 3 3 1 5 1 3 2 5 5]\n"
          ]
        },
        {
          "name": "stderr",
          "output_type": "stream",
          "text": [
            "/usr/local/lib/python3.10/dist-packages/sklearn/linear_model/_logistic.py:469: ConvergenceWarning: lbfgs failed to converge (status=1):\n",
            "STOP: TOTAL NO. of ITERATIONS REACHED LIMIT.\n",
            "\n",
            "Increase the number of iterations (max_iter) or scale the data as shown in:\n",
            "    https://scikit-learn.org/stable/modules/preprocessing.html\n",
            "Please also refer to the documentation for alternative solver options:\n",
            "    https://scikit-learn.org/stable/modules/linear_model.html#logistic-regression\n",
            "  n_iter_i = _check_optimize_result(\n"
          ]
        }
      ],
      "source": [
        "from sklearn.linear_model import LogisticRegression as logisticeregression\n",
        "logres = logisticeregression()\n",
        "x_train, x_test, y_train, y_test = train_test_split(x, y, test_size=0.2, random_state=0)\n",
        "logres.fit(x_train,y_train)\n",
        "y_pred=  logres.predict(x_test)\n",
        "print(y_pred)\n",
        "print(y_test)\n"
      ]
    },
    {
      "cell_type": "code",
      "execution_count": null,
      "metadata": {
        "colab": {
          "base_uri": "https://localhost:8080/"
        },
        "id": "-fixiLBKQv8_",
        "outputId": "f4610a56-2ecc-4b75-b2c8-d282f75eb8b0"
      },
      "outputs": [
        {
          "name": "stdout",
          "output_type": "stream",
          "text": [
            "[[18  5  0  0  0]\n",
            " [ 6 14  3  0  0]\n",
            " [ 0  9 18 15  0]\n",
            " [ 0  0  3 11 12]\n",
            " [ 0  0  0  2 24]]\n"
          ]
        }
      ],
      "source": [
        "from sklearn import metrics\n",
        "cnf_metrix = metrics.confusion_matrix(y_test,y_pred)\n",
        "print(cnf_metrix)"
      ]
    },
    {
      "cell_type": "code",
      "execution_count": null,
      "metadata": {
        "colab": {
          "base_uri": "https://localhost:8080/",
          "height": 568
        },
        "id": "nIiRrJrNRXow",
        "outputId": "3087f08e-5684-477b-8abc-a215045d7eb4"
      },
      "outputs": [
        {
          "data": {
            "text/plain": [
              "Text(0.5, 427.9555555555555, 'Predicted label')"
            ]
          },
          "execution_count": 24,
          "metadata": {},
          "output_type": "execute_result"
        },
        {
          "data": {
            "image/png": "[encoded data removed]",
            "text/plain": [
              "<Figure size 640x480 with 2 Axes>"
            ]
          },
          "metadata": {},
          "output_type": "display_data"
        }
      ],
      "source": [
        "import seaborn as sns\n",
        "import matplotlib.pyplot as plt\n",
        "import numpy as np\n",
        "import pandas as pd\n",
        "%matplotlib inline\n",
        "\n",
        "import pandas as pd\n",
        "%matplotlib inline\n",
        "\n",
        "class_names=[0,1]\n",
        "fig, ax = plt.subplots()\n",
        "tick_marks = np.arange(len(class_names))\n",
        "plt.xticks(tick_marks, class_names)\n",
        "plt.yticks(tick_marks, class_names)\n",
        "sns.heatmap(pd.DataFrame(cnf_metrix), annot=True, cmap=\"YlGnBu\" ,fmt='g')\n",
        "ax.xaxis.set_label_position(\"top\")\n",
        "plt.tight_layout()\n",
        "plt.title('Confusion matrix', y=1.1)\n",
        "plt.ylabel('Actual label')\n",
        "plt.xlabel('Predicted label')"
      ]
    },
    {
      "cell_type": "code",
      "execution_count": null,
      "metadata": {
        "colab": {
          "base_uri": "https://localhost:8080/"
        },
        "id": "MnQuDYTdRvHG",
        "outputId": "e827ab12-43a1-41e5-c274-f21f51733a0e"
      },
      "outputs": [
        {
          "name": "stdout",
          "output_type": "stream",
          "text": [
            "Accuracy: 0.6071428571428571\n"
          ]
        }
      ],
      "source": [
        "print(\"Accuracy:\",metrics.accuracy_score(y_test, y_pred))"
      ]
    },
    {
      "cell_type": "code",
      "execution_count": null,
      "metadata": {
        "colab": {
          "base_uri": "https://localhost:8080/"
        },
        "id": "GgyDS7cNovf3",
        "outputId": "36de9aea-b1ed-4d91-fdd9-14e46a2c375e"
      },
      "outputs": [
        {
          "name": "stdout",
          "output_type": "stream",
          "text": [
            "     Age  Gender  Weight (kg)  Height (m)  Max_BPM  Avg_BPM  Resting_BPM  \\\n",
            "0     56    Male         88.3        1.71      180      157           60   \n",
            "1     46  Female         74.9        1.53      179      151           66   \n",
            "2     32  Female         68.1        1.66      167      122           54   \n",
            "3     25    Male         53.2        1.70      190      164           56   \n",
            "4     38    Male         46.1        1.79      188      158           68   \n",
            "..   ...     ...          ...         ...      ...      ...          ...   \n",
            "968   24    Male         87.1        1.74      187      158           67   \n",
            "969   25    Male         66.6        1.61      184      166           56   \n",
            "970   59  Female         60.4        1.76      194      120           53   \n",
            "971   32    Male        126.4        1.83      198      146           62   \n",
            "972   46    Male         88.7        1.63      166      146           66   \n",
            "\n",
            "     Session_Duration (hours)  Calories_Burned Workout_Type  Fat_Percentage  \\\n",
            "0                        1.69           1313.0         Yoga            12.6   \n",
            "1                        1.30            883.0         HIIT            33.9   \n",
            "2                        1.11            677.0       Cardio            33.4   \n",
            "3                        0.59            532.0     Strength            28.8   \n",
            "4                        0.64            556.0     Strength            29.2   \n",
            "..                        ...              ...          ...             ...   \n",
            "968                      1.57           1364.0     Strength            10.0   \n",
            "969                      1.38           1260.0     Strength            25.0   \n",
            "970                      1.72            929.0       Cardio            18.8   \n",
            "971                      1.10            883.0         HIIT            28.2   \n",
            "972                      0.75            542.0     Strength            28.8   \n",
            "\n",
            "     Water_Intake (liters)  Workout_Frequency (days/week)  Experience_Level  \\\n",
            "0                      3.5                              4                 3   \n",
            "1                      2.1                              4                 2   \n",
            "2                      2.3                              4                 2   \n",
            "3                      2.1                              3                 1   \n",
            "4                      2.8                              3                 1   \n",
            "..                     ...                            ...               ...   \n",
            "968                    3.5                              4                 3   \n",
            "969                    3.0                              2                 1   \n",
            "970                    2.7                              5                 3   \n",
            "971                    2.1                              3                 2   \n",
            "972                    3.5                              2                 1   \n",
            "\n",
            "       BMI  \n",
            "0    30.20  \n",
            "1    32.00  \n",
            "2    24.71  \n",
            "3    18.41  \n",
            "4    14.39  \n",
            "..     ...  \n",
            "968  28.77  \n",
            "969  25.69  \n",
            "970  19.50  \n",
            "971  37.74  \n",
            "972  33.38  \n",
            "\n",
            "[973 rows x 15 columns]\n"
          ]
        }
      ],
      "source": [
        "import pandas as pd\n",
        "import numpy as np\n",
        "from sklearn.neighbors import KNeighborsClassifier\n",
        "from sklearn.model_selection import train_test_split\n",
        "df = pd.read_csv(\"/content/gym_members_exercise_tracking.csv\")\n",
        "print(df)"
      ]
    },
    {
      "cell_type": "code",
      "source": [
        "from sklearn import preprocessing\n",
        "le = preprocessing.LabelEncoder()\n",
        "df['Gender'] = le.fit_transform(df['Gender'])\n",
        "df['Workout_Type'] = le.fit_transform(df['Workout_Type'])\n",
        "print(df)"
      ],
      "metadata": {
        "colab": {
          "base_uri": "https://localhost:8080/"
        },
        "id": "Ldiymrkeu0eI",
        "outputId": "5a8b1a36-70fd-4988-a2d1-246bff9e5bfa"
      },
      "execution_count": null,
      "outputs": [
        {
          "output_type": "stream",
          "name": "stdout",
          "text": [
            "     Age  Gender  Weight (kg)  Height (m)  Max_BPM  Avg_BPM  Resting_BPM  \\\n",
            "0     56       1         88.3        1.71      180      157           60   \n",
            "1     46       0         74.9        1.53      179      151           66   \n",
            "2     32       0         68.1        1.66      167      122           54   \n",
            "3     25       1         53.2        1.70      190      164           56   \n",
            "4     38       1         46.1        1.79      188      158           68   \n",
            "..   ...     ...          ...         ...      ...      ...          ...   \n",
            "968   24       1         87.1        1.74      187      158           67   \n",
            "969   25       1         66.6        1.61      184      166           56   \n",
            "970   59       0         60.4        1.76      194      120           53   \n",
            "971   32       1        126.4        1.83      198      146           62   \n",
            "972   46       1         88.7        1.63      166      146           66   \n",
            "\n",
            "     Session_Duration (hours)  Calories_Burned  Workout_Type  Fat_Percentage  \\\n",
            "0                        1.69           1313.0             3            12.6   \n",
            "1                        1.30            883.0             1            33.9   \n",
            "2                        1.11            677.0             0            33.4   \n",
            "3                        0.59            532.0             2            28.8   \n",
            "4                        0.64            556.0             2            29.2   \n",
            "..                        ...              ...           ...             ...   \n",
            "968                      1.57           1364.0             2            10.0   \n",
            "969                      1.38           1260.0             2            25.0   \n",
            "970                      1.72            929.0             0            18.8   \n",
            "971                      1.10            883.0             1            28.2   \n",
            "972                      0.75            542.0             2            28.8   \n",
            "\n",
            "     Water_Intake (liters)  Workout_Frequency (days/week)  Experience_Level  \\\n",
            "0                      3.5                              4                 3   \n",
            "1                      2.1                              4                 2   \n",
            "2                      2.3                              4                 2   \n",
            "3                      2.1                              3                 1   \n",
            "4                      2.8                              3                 1   \n",
            "..                     ...                            ...               ...   \n",
            "968                    3.5                              4                 3   \n",
            "969                    3.0                              2                 1   \n",
            "970                    2.7                              5                 3   \n",
            "971                    2.1                              3                 2   \n",
            "972                    3.5                              2                 1   \n",
            "\n",
            "       BMI  \n",
            "0    30.20  \n",
            "1    32.00  \n",
            "2    24.71  \n",
            "3    18.41  \n",
            "4    14.39  \n",
            "..     ...  \n",
            "968  28.77  \n",
            "969  25.69  \n",
            "970  19.50  \n",
            "971  37.74  \n",
            "972  33.38  \n",
            "\n",
            "[973 rows x 15 columns]\n"
          ]
        }
      ]
    },
    {
      "cell_type": "code",
      "source": [
        "from sklearn.neighbors import KNeighborsRegressor # Import KNeighborsRegressor\n",
        "from sklearn.model_selection import train_test_split\n",
        "\n",
        "# ... (your existing code for data loading and preprocessing) ...\n",
        "\n",
        "x = df[[\"Age\",\"Gender\",\"Height (m)\",\"Max_BPM\",\"Avg_BPM\", \"Resting_BPM\",\"Session_Duration (hours)\",\"Calories_Burned\",\"Workout_Type\",\"Fat_Percentage\",\"Water_Intake (liters)\",\"Workout_Frequency (days/week)\",\"Experience_Level\"]].values\n",
        "y = df['BMI'].values\n",
        "\n",
        "x_train, x_test, y_train, y_test = train_test_split(x, y, test_size=0.2, random_state=0)\n",
        "\n",
        "# Use KNeighborsRegressor for regression tasks\n",
        "knn = KNeighborsRegressor(n_neighbors=5)  # Change to KNeighborsRegressor\n",
        "\n",
        "knn.fit(x_train, y_train)\n",
        "y_pred = knn.predict(x_test)\n",
        "print(y_pred)\n",
        "print(y_test)"
      ],
      "metadata": {
        "colab": {
          "base_uri": "https://localhost:8080/"
        },
        "id": "2Z96zBrXzXrj",
        "outputId": "3f6cd578-a9a4-41e9-bc74-9325ef5d28ec"
      },
      "execution_count": null,
      "outputs": [
        {
          "output_type": "stream",
          "name": "stdout",
          "text": [
            "[23.18  21.494 24.946 25.976 21.328 20.122 22.48  22.19  23.698 29.38\n",
            " 25.68  21.39  28.432 28.954 22.374 27.73  25.97  26.296 25.358 27.06\n",
            " 22.902 23.464 24.054 20.74  22.69  24.954 22.944 25.484 25.972 26.372\n",
            " 22.748 23.18  22.57  24.172 24.982 23.948 18.792 27.806 25.12  21.804\n",
            " 24.19  25.176 27.734 20.65  19.868 21.074 33.62  25.728 23.956 27.074\n",
            " 27.76  26.07  24.892 22.694 23.218 19.324 19.742 28.728 21.066 26.028\n",
            " 24.452 25.498 21.924 26.446 25.852 24.44  26.762 27.734 30.588 27.072\n",
            " 22.846 25.572 21.622 24.284 23.672 21.404 22.29  29.278 22.43  20.692\n",
            " 24.08  22.79  25.56  21.382 23.396 23.882 28.052 24.608 22.39  25.18\n",
            " 21.874 22.282 26.498 28.578 26.448 24.108 21.978 19.872 26.01  22.508\n",
            " 25.67  27.128 22.916 22.884 24.456 28.618 20.024 19.682 24.266 27.522\n",
            " 24.744 20.422 29.674 26.852 26.972 27.684 28.502 21.138 20.556 18.494\n",
            " 24.814 20.438 23.19  24.6   25.004 27.914 25.628 22.396 27.524 18.634\n",
            " 26.058 21.914 26.162 28.108 20.234 23.464 22.72  27.76  24.196 18.888\n",
            " 29.336 24.016 24.176 19.858 28.23  24.764 24.344 22.954 28.116 24.594\n",
            " 25.532 29.498 24.728 25.676 28.076 28.69  25.504 25.736 20.576 21.36\n",
            " 29.53  22.04  25.782 23.872 25.718 28.302 27.504 27.358 24.43  30.176\n",
            " 18.908 23.852 24.62  21.188 28.756 27.586 26.048 21.614 24.484 23.276\n",
            " 24.24  25.792 26.618 24.014 18.48  33.352 28.996 24.846 28.596 29.56\n",
            " 20.98  23.506 26.954 27.356 22.284]\n",
            "[27.11 31.61 42.3  21.72 28.77 32.75 26.08 29.26 30.49 32.42 20.76 30.96\n",
            " 35.93 15.72 16.35 20.29 26.57 26.22 28.46 22.23 28.31 25.17 29.56 41.84\n",
            " 15.23 17.6  27.78 27.35 23.95 18.46 25.73 20.4  22.44 31.41 40.09 15.73\n",
            " 26.84 17.61 16.56 15.31 27.88 23.25 22.64 26.98 33.38 25.44 34.68 34.63\n",
            " 15.88 23.81 26.19 16.8  21.58 17.72 31.71 22.44 19.21 20.28 23.56 27.93\n",
            " 17.93 44.84 45.14 24.52 26.13 24.89 25.36 37.56 18.42 24.07 26.33 20.83\n",
            " 26.33 27.58 16.19 20.38 25.35 22.16 25.89 16.53 34.83 35.44 34.53 30.12\n",
            " 27.23 26.74 16.22 19.88 23.88 23.35 21.84 22.45 22.67 22.15 28.49 26.14\n",
            " 37.53 23.2  18.77 23.56 28.78 30.18 40.26 27.69 26.35 22.14 18.7  34.06\n",
            " 28.76 32.34 17.93 17.91 15.7  21.16 18.24 23.46 31.14 23.53 28.93 28.49\n",
            " 21.65 17.51 19.69 22.78 27.84 16.54 33.4  34.5  22.51 38.76 17.4  26.95\n",
            " 19.65 24.84 20.76 37.74 24.64 16.23 18.45 47.72 22.55 23.41 22.85 26.99\n",
            " 18.68 24.23 20.11 37.11 31.94 26.52 23.53 23.05 19.13 24.64 26.46 45.14\n",
            " 19.73 33.07 17.06 35.82 23.88 17.25 25.69 20.55 17.59 26.02 28.78 25.02\n",
            " 15.24 14.54 29.21 26.01 18.62 21.16 29.07 19.06 17.7  18.39 21.34 26.81\n",
            " 23.52 23.84 33.14 23.7  19.86 27.01 38.78 21.4  36.47 30.74 21.83 22.18\n",
            " 29.97 24.35 16.8 ]\n"
          ]
        }
      ]
    },
    {
      "cell_type": "code",
      "source": [
        "mse = metrics.mean_squared_error(y_test, y_pred)\n",
        "r2 = metrics.r2_score(y_test, y_pred)\n",
        "\n",
        "print(\"Mean Squared Error:\", mse)\n",
        "print(\"R-squared:\", r2)"
      ],
      "metadata": {
        "colab": {
          "base_uri": "https://localhost:8080/"
        },
        "id": "SQL44mw2zzyf",
        "outputId": "769776a5-96ed-48dc-c574-ae0847d9e600"
      },
      "execution_count": null,
      "outputs": [
        {
          "output_type": "stream",
          "name": "stdout",
          "text": [
            "Mean Squared Error: 58.00894886153847\n",
            "R-squared: -0.2580181077925918\n"
          ]
        }
      ]
    }
  ],
  "metadata": {
    "colab": {
      "provenance": [],
      "authorship_tag": "ABX9TyOINOB+mNuqzSZDlv/RGFXL",
      "include_colab_link": true
    },
    "kernelspec": {
      "display_name": "Python 3",
      "name": "python3"
    },
    "language_info": {
      "name": "python"
    }
  },
  "nbformat": 4,
  "nbformat_minor": 0
}